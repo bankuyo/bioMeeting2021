{
 "cells": [
  {
   "cell_type": "markdown",
   "metadata": {},
   "source": [
    "# NMDS for R\n",
    "- https://yokazaki.hatenablog.com/entry/2016/06/29/212153\n",
    "- https://www.rdocumentation.org/packages/vegan/versions/2.4-2/topics/vegdist\n",
    "- https://www.rdocumentation.org/packages/vegan/versions/2.4-2/topics/metaMDS\n",
    "-https://www.youtube.com/watch?v=tVnnG7mFeqA\n"
   ]
  },
  {
   "cell_type": "markdown",
   "metadata": {},
   "source": [
    "# Install vegan package"
   ]
  },
  {
   "cell_type": "code",
   "execution_count": 2,
   "metadata": {},
   "outputs": [
    {
     "name": "stderr",
     "output_type": "stream",
     "text": [
      "also installing the dependencies ‘permute’, ‘cluster’\n",
      "\n",
      "\n",
      "Updating HTML index of packages in '.Library'\n",
      "\n",
      "Making 'packages.html' ...\n",
      " done\n",
      "\n"
     ]
    }
   ],
   "source": [
    "install.packages(\"vegan\", dependencies = TRUE)"
   ]
  },
  {
   "cell_type": "code",
   "execution_count": 4,
   "metadata": {},
   "outputs": [
    {
     "name": "stderr",
     "output_type": "stream",
     "text": [
      "Loading required package: permute\n",
      "\n",
      "Loading required package: lattice\n",
      "\n",
      "This is vegan 2.5-7\n",
      "\n"
     ]
    }
   ],
   "source": [
    "library(vegan)"
   ]
  },
  {
   "cell_type": "markdown",
   "metadata": {},
   "source": [
    "## Read data file"
   ]
  },
  {
   "cell_type": "code",
   "execution_count": 85,
   "metadata": {},
   "outputs": [],
   "source": [
    "species_data = read.csv(\"species_data.csv\")"
   ]
  },
  {
   "cell_type": "code",
   "execution_count": 86,
   "metadata": {},
   "outputs": [
    {
     "data": {
      "text/html": [
       "<table>\n",
       "<caption>A matrix: 5 × 6 of type int</caption>\n",
       "<tbody>\n",
       "\t<tr><th scope=row>Site1</th><td>120</td><td>600</td><td> 50</td><td>225</td><td>1200</td><td>600</td></tr>\n",
       "\t<tr><th scope=row>Site2</th><td> 60</td><td>720</td><td> 80</td><td>230</td><td>2300</td><td>363</td></tr>\n",
       "\t<tr><th scope=row>Site3</th><td>120</td><td>230</td><td> 20</td><td>320</td><td> 500</td><td>150</td></tr>\n",
       "\t<tr><th scope=row>Site4</th><td> 30</td><td>400</td><td>150</td><td> 20</td><td> 230</td><td>200</td></tr>\n",
       "\t<tr><th scope=row>Site5</th><td> 50</td><td>500</td><td>200</td><td> 10</td><td>  10</td><td>200</td></tr>\n",
       "</tbody>\n",
       "</table>\n"
      ],
      "text/latex": [
       "A matrix: 5 × 6 of type int\n",
       "\\begin{tabular}{r|llllll}\n",
       "\tSite1 & 120 & 600 &  50 & 225 & 1200 & 600\\\\\n",
       "\tSite2 &  60 & 720 &  80 & 230 & 2300 & 363\\\\\n",
       "\tSite3 & 120 & 230 &  20 & 320 &  500 & 150\\\\\n",
       "\tSite4 &  30 & 400 & 150 &  20 &  230 & 200\\\\\n",
       "\tSite5 &  50 & 500 & 200 &  10 &   10 & 200\\\\\n",
       "\\end{tabular}\n"
      ],
      "text/markdown": [
       "\n",
       "A matrix: 5 × 6 of type int\n",
       "\n",
       "| Site1 | 120 | 600 |  50 | 225 | 1200 | 600 |\n",
       "| Site2 |  60 | 720 |  80 | 230 | 2300 | 363 |\n",
       "| Site3 | 120 | 230 |  20 | 320 |  500 | 150 |\n",
       "| Site4 |  30 | 400 | 150 |  20 |  230 | 200 |\n",
       "| Site5 |  50 | 500 | 200 |  10 |   10 | 200 |\n",
       "\n"
      ],
      "text/plain": [
       "      [,1] [,2] [,3] [,4] [,5] [,6]\n",
       "Site1 120  600   50  225  1200 600 \n",
       "Site2  60  720   80  230  2300 363 \n",
       "Site3 120  230   20  320   500 150 \n",
       "Site4  30  400  150   20   230 200 \n",
       "Site5  50  500  200   10    10 200 "
      ]
     },
     "metadata": {},
     "output_type": "display_data"
    }
   ],
   "source": [
    "t(species_data)"
   ]
  },
  {
   "cell_type": "markdown",
   "metadata": {},
   "source": [
    "## Create Bray curtis distance"
   ]
  },
  {
   "cell_type": "code",
   "execution_count": 87,
   "metadata": {},
   "outputs": [
    {
     "data": {
      "text/plain": [
       "          Site1     Site2     Site3     Site4\n",
       "Site2 0.2370189                              \n",
       "Site3 0.3978235 0.5326919                    \n",
       "Site4 0.5137255 0.5985783 0.4261603          \n",
       "Site5 0.5644090 0.6400593 0.5930736 0.2000000"
      ]
     },
     "metadata": {},
     "output_type": "display_data"
    }
   ],
   "source": [
    "bray_dist = vegdist(t(species_data), method = \"bray\")\n",
    "bray_dist"
   ]
  },
  {
   "cell_type": "markdown",
   "metadata": {},
   "source": [
    "## Rarefaction\n",
    "- covrared"
   ]
  },
  {
   "cell_type": "code",
   "execution_count": 88,
   "metadata": {},
   "outputs": [
    {
     "data": {
      "text/html": [
       "100"
      ],
      "text/latex": [
       "100"
      ],
      "text/markdown": [
       "100"
      ],
      "text/plain": [
       "[1] 100"
      ]
     },
     "metadata": {},
     "output_type": "display_data"
    }
   ],
   "source": [
    "OTU_table = t(species_data)\n",
    "#各サンプル、１リード増えるごとの傾きをリスト形式で一括出力（要計算時間）\n",
    "rareslopelist<-list()\n",
    "for(i in 1:nrow(OTU_table)){\n",
    "  rareslopelist[[i]]<-rareslope(OTU_table[i,],1:(sum(OTU_table[i,])-1))\n",
    "}#最後の1リードを入れずに「-1」としているのは、最後の1リードについては傾きが計算できない（0になる）ため\n",
    "\n",
    "#最後のリードの傾きが最も大きい（＝カバー率が最も低い）サンプルを探す\n",
    "getmincov<-c()\n",
    "  for(i in 1:nrow(OTU_table)){\n",
    "    getmincov[i]<-rareslopelist[[i]][length(rareslopelist[[i]])]\n",
    "}#最後の1リードの傾きだけをベクトルでとってくる\n",
    "\n",
    "(1-max(getmincov))*100　#カバレッジの％を確認\n",
    "\n",
    "#指定したカバレッジに到達した（＝傾きが指定値を下回る）瞬間のリード数をサンプルごとに採ってくる\n",
    "cvrfun<-function(x){min(which(x<=max(getmincov)))+1} #関数を設定。上記で1を引いた分を足し戻す\n",
    "cvrrare<-unlist(lapply(rareslopelist,cvrfun))　#lapply+unlistでベクトル形式にして一括で値を取得\n",
    "\n",
    "set.seed(123) #再現性をとるためにランダム変数を固定（数字は何でもいい）\n",
    "OTU_covrared<-rrarefy(OTU_table,cvrrare) \n",
    "write.csv(OTU_covrared,\"covarage_rared_species.csv\") "
   ]
  },
  {
   "cell_type": "markdown",
   "metadata": {},
   "source": [
    "## Apply NMDS\n",
    "- metaMDS (vegan package)\n",
    "    - x : data\n",
    "    - k : dimention\n",
    "    - trymax : iterate 20 times\n",
    "    - trace : FALSE => Don't show the log"
   ]
  },
  {
   "cell_type": "code",
   "execution_count": 89,
   "metadata": {},
   "outputs": [
    {
     "name": "stderr",
     "output_type": "stream",
     "text": [
      "Warning message in metaMDS(OTU_covrared, k = 2, trymax = 5, trace = FALSE):\n",
      "“stress is (nearly) zero: you may have insufficient data”\n"
     ]
    }
   ],
   "source": [
    "set.seed(123) #NMDSの再現性を担保するため、ランダム変数を固定（数字はなんでもいい）\n",
    "nmds<-metaMDS(OTU_covrared,k=2,trymax=5, trace =FALSE) "
   ]
  },
  {
   "cell_type": "code",
   "execution_count": 90,
   "metadata": {},
   "outputs": [
    {
     "data": {
      "text/html": [
       "0"
      ],
      "text/latex": [
       "0"
      ],
      "text/markdown": [
       "0"
      ],
      "text/plain": [
       "[1] 0"
      ]
     },
     "metadata": {},
     "output_type": "display_data"
    }
   ],
   "source": [
    "nmds$stress"
   ]
  },
  {
   "cell_type": "code",
   "execution_count": 91,
   "metadata": {},
   "outputs": [
    {
     "data": {
      "image/png": "[encoded data removed]",
      "text/plain": [
       "plot without title"
      ]
     },
     "metadata": {
      "image/png": {
       "height": 420,
       "width": 420
      }
     },
     "output_type": "display_data"
    }
   ],
   "source": [
    "ordiplot(nmds,type=\"n\") #枠を書く\n",
    "orditorp(nmds,display=\"sites\",air=0.1,cex=1)　#点を書く"
   ]
  },
  {
   "cell_type": "markdown",
   "metadata": {},
   "source": [
    "---\n",
    "# Random data"
   ]
  },
  {
   "cell_type": "code",
   "execution_count": 1,
   "metadata": {},
   "outputs": [],
   "source": [
    "random_data = read.csv(\"random_data.csv\", header = T, row.names=1)"
   ]
  },
  {
   "cell_type": "code",
   "execution_count": 2,
   "metadata": {},
   "outputs": [
    {
     "data": {
      "text/html": [
       "<table>\n",
       "<caption>A matrix: 15 × 45 of type dbl</caption>\n",
       "<thead>\n",
       "\t<tr><th></th><th scope=col>Specie_0</th><th scope=col>Specie_1</th><th scope=col>Specie_2</th><th scope=col>Specie_3</th><th scope=col>Specie_4</th><th scope=col>Specie_5</th><th scope=col>Specie_6</th><th scope=col>Specie_7</th><th scope=col>Specie_8</th><th scope=col>Specie_9</th><th scope=col>⋯</th><th scope=col>Specie_35</th><th scope=col>Specie_36</th><th scope=col>Specie_37</th><th scope=col>Specie_38</th><th scope=col>Specie_39</th><th scope=col>Specie_40</th><th scope=col>Specie_41</th><th scope=col>Specie_42</th><th scope=col>Specie_43</th><th scope=col>Specie_44</th></tr>\n",
       "</thead>\n",
       "<tbody>\n",
       "\t<tr><th scope=row>Site0</th><td> 43</td><td>109</td><td>263</td><td>365</td><td>127</td><td>366</td><td>281</td><td> 72</td><td> 33</td><td>422</td><td>⋯</td><td>661</td><td>657</td><td>328</td><td>687</td><td>107</td><td>627</td><td>25</td><td>527</td><td>302</td><td>32</td></tr>\n",
       "\t<tr><th scope=row>Site1</th><td>306</td><td>  9</td><td>126</td><td>433</td><td>202</td><td>666</td><td>177</td><td>231</td><td> 98</td><td> 41</td><td>⋯</td><td> 30</td><td>247</td><td>163</td><td>626</td><td>685</td><td> 67</td><td>53</td><td> 76</td><td>165</td><td>43</td></tr>\n",
       "\t<tr><th scope=row>Site2</th><td>240</td><td>103</td><td>275</td><td> 13</td><td>223</td><td>595</td><td>211</td><td>126</td><td>294</td><td>  6</td><td>⋯</td><td>709</td><td>149</td><td>134</td><td>468</td><td>606</td><td>381</td><td>38</td><td>240</td><td>328</td><td>46</td></tr>\n",
       "\t<tr><th scope=row>Site3</th><td>548</td><td>141</td><td>380</td><td>145</td><td> 64</td><td>659</td><td>214</td><td>302</td><td> 38</td><td>477</td><td>⋯</td><td>323</td><td>488</td><td>465</td><td>181</td><td>208</td><td> 21</td><td>27</td><td>518</td><td>262</td><td>58</td></tr>\n",
       "\t<tr><th scope=row>Site4</th><td>531</td><td>168</td><td>354</td><td>396</td><td>105</td><td>244</td><td>494</td><td>472</td><td>  7</td><td>365</td><td>⋯</td><td>471</td><td>160</td><td>292</td><td>244</td><td>229</td><td>465</td><td> 7</td><td> 71</td><td> 51</td><td>41</td></tr>\n",
       "\t<tr><th scope=row>Site5</th><td>257</td><td> 17</td><td>200</td><td>229</td><td>206</td><td>178</td><td>339</td><td>343</td><td>255</td><td>543</td><td>⋯</td><td>600</td><td>463</td><td>481</td><td> 74</td><td>276</td><td>251</td><td>51</td><td>419</td><td>216</td><td> 5</td></tr>\n",
       "\t<tr><th scope=row>Site6</th><td>331</td><td>166</td><td> 37</td><td>  3</td><td>216</td><td>428</td><td>374</td><td>105</td><td> 60</td><td>146</td><td>⋯</td><td>130</td><td>687</td><td>346</td><td>787</td><td>203</td><td>297</td><td>32</td><td>588</td><td>250</td><td> 1</td></tr>\n",
       "\t<tr><th scope=row>Site7</th><td>207</td><td> 85</td><td>500</td><td>210</td><td>157</td><td>113</td><td> 73</td><td>216</td><td>132</td><td>838</td><td>⋯</td><td>212</td><td>797</td><td>424</td><td>565</td><td> 80</td><td>491</td><td>31</td><td>574</td><td>153</td><td>57</td></tr>\n",
       "\t<tr><th scope=row>Site8</th><td>556</td><td> 83</td><td>457</td><td>165</td><td>180</td><td>145</td><td>156</td><td>161</td><td> 72</td><td> 10</td><td>⋯</td><td>434</td><td>264</td><td>216</td><td>565</td><td>524</td><td>589</td><td> 7</td><td>593</td><td> 35</td><td>58</td></tr>\n",
       "\t<tr><th scope=row>Site9</th><td>601</td><td>184</td><td>367</td><td>303</td><td>216</td><td>208</td><td> 15</td><td>400</td><td> 30</td><td>716</td><td>⋯</td><td>630</td><td>695</td><td>518</td><td>721</td><td>511</td><td>257</td><td>56</td><td>222</td><td>147</td><td>32</td></tr>\n",
       "\t<tr><th scope=row>Site10</th><td> 28</td><td> 30</td><td>281</td><td>162</td><td>161</td><td> 36</td><td>142</td><td>144</td><td> 48</td><td>725</td><td>⋯</td><td>455</td><td>167</td><td>188</td><td>312</td><td>542</td><td>102</td><td>30</td><td>244</td><td>352</td><td>18</td></tr>\n",
       "\t<tr><th scope=row>Site11</th><td>227</td><td>131</td><td>369</td><td>492</td><td> 45</td><td>192</td><td>173</td><td>433</td><td> 13</td><td>537</td><td>⋯</td><td>387</td><td> 27</td><td>342</td><td>486</td><td>491</td><td>134</td><td>33</td><td>262</td><td> 65</td><td>32</td></tr>\n",
       "\t<tr><th scope=row>Site12</th><td>645</td><td> 29</td><td>220</td><td>295</td><td>183</td><td>531</td><td> 50</td><td>157</td><td> 80</td><td>921</td><td>⋯</td><td>431</td><td> 41</td><td>129</td><td>210</td><td>492</td><td>254</td><td>23</td><td>370</td><td>341</td><td>49</td></tr>\n",
       "\t<tr><th scope=row>Site13</th><td>616</td><td>149</td><td>183</td><td> 65</td><td>145</td><td>539</td><td>106</td><td> 25</td><td>264</td><td>  8</td><td>⋯</td><td>704</td><td>757</td><td> 86</td><td>339</td><td>483</td><td>545</td><td> 2</td><td>238</td><td> 84</td><td>18</td></tr>\n",
       "\t<tr><th scope=row>Site14</th><td>515</td><td>  6</td><td>293</td><td>261</td><td>189</td><td>452</td><td>171</td><td>536</td><td> 51</td><td>131</td><td>⋯</td><td>251</td><td>292</td><td>532</td><td> 46</td><td>591</td><td>291</td><td>46</td><td>123</td><td> 28</td><td>29</td></tr>\n",
       "</tbody>\n",
       "</table>\n"
      ],
      "text/latex": [
       "A matrix: 15 × 45 of type dbl\n",
       "\\begin{tabular}{r|lllllllllllllllllllll}\n",
       "  & Specie\\_0 & Specie\\_1 & Specie\\_2 & Specie\\_3 & Specie\\_4 & Specie\\_5 & Specie\\_6 & Specie\\_7 & Specie\\_8 & Specie\\_9 & ⋯ & Specie\\_35 & Specie\\_36 & Specie\\_37 & Specie\\_38 & Specie\\_39 & Specie\\_40 & Specie\\_41 & Specie\\_42 & Specie\\_43 & Specie\\_44\\\\\n",
       "\\hline\n",
       "\tSite0 &  43 & 109 & 263 & 365 & 127 & 366 & 281 &  72 &  33 & 422 & ⋯ & 661 & 657 & 328 & 687 & 107 & 627 & 25 & 527 & 302 & 32\\\\\n",
       "\tSite1 & 306 &   9 & 126 & 433 & 202 & 666 & 177 & 231 &  98 &  41 & ⋯ &  30 & 247 & 163 & 626 & 685 &  67 & 53 &  76 & 165 & 43\\\\\n",
       "\tSite2 & 240 & 103 & 275 &  13 & 223 & 595 & 211 & 126 & 294 &   6 & ⋯ & 709 & 149 & 134 & 468 & 606 & 381 & 38 & 240 & 328 & 46\\\\\n",
       "\tSite3 & 548 & 141 & 380 & 145 &  64 & 659 & 214 & 302 &  38 & 477 & ⋯ & 323 & 488 & 465 & 181 & 208 &  21 & 27 & 518 & 262 & 58\\\\\n",
       "\tSite4 & 531 & 168 & 354 & 396 & 105 & 244 & 494 & 472 &   7 & 365 & ⋯ & 471 & 160 & 292 & 244 & 229 & 465 &  7 &  71 &  51 & 41\\\\\n",
       "\tSite5 & 257 &  17 & 200 & 229 & 206 & 178 & 339 & 343 & 255 & 543 & ⋯ & 600 & 463 & 481 &  74 & 276 & 251 & 51 & 419 & 216 &  5\\\\\n",
       "\tSite6 & 331 & 166 &  37 &   3 & 216 & 428 & 374 & 105 &  60 & 146 & ⋯ & 130 & 687 & 346 & 787 & 203 & 297 & 32 & 588 & 250 &  1\\\\\n",
       "\tSite7 & 207 &  85 & 500 & 210 & 157 & 113 &  73 & 216 & 132 & 838 & ⋯ & 212 & 797 & 424 & 565 &  80 & 491 & 31 & 574 & 153 & 57\\\\\n",
       "\tSite8 & 556 &  83 & 457 & 165 & 180 & 145 & 156 & 161 &  72 &  10 & ⋯ & 434 & 264 & 216 & 565 & 524 & 589 &  7 & 593 &  35 & 58\\\\\n",
       "\tSite9 & 601 & 184 & 367 & 303 & 216 & 208 &  15 & 400 &  30 & 716 & ⋯ & 630 & 695 & 518 & 721 & 511 & 257 & 56 & 222 & 147 & 32\\\\\n",
       "\tSite10 &  28 &  30 & 281 & 162 & 161 &  36 & 142 & 144 &  48 & 725 & ⋯ & 455 & 167 & 188 & 312 & 542 & 102 & 30 & 244 & 352 & 18\\\\\n",
       "\tSite11 & 227 & 131 & 369 & 492 &  45 & 192 & 173 & 433 &  13 & 537 & ⋯ & 387 &  27 & 342 & 486 & 491 & 134 & 33 & 262 &  65 & 32\\\\\n",
       "\tSite12 & 645 &  29 & 220 & 295 & 183 & 531 &  50 & 157 &  80 & 921 & ⋯ & 431 &  41 & 129 & 210 & 492 & 254 & 23 & 370 & 341 & 49\\\\\n",
       "\tSite13 & 616 & 149 & 183 &  65 & 145 & 539 & 106 &  25 & 264 &   8 & ⋯ & 704 & 757 &  86 & 339 & 483 & 545 &  2 & 238 &  84 & 18\\\\\n",
       "\tSite14 & 515 &   6 & 293 & 261 & 189 & 452 & 171 & 536 &  51 & 131 & ⋯ & 251 & 292 & 532 &  46 & 591 & 291 & 46 & 123 &  28 & 29\\\\\n",
       "\\end{tabular}\n"
      ],
      "text/markdown": [
       "\n",
       "A matrix: 15 × 45 of type dbl\n",
       "\n",
       "| <!--/--> | Specie_0 | Specie_1 | Specie_2 | Specie_3 | Specie_4 | Specie_5 | Specie_6 | Specie_7 | Specie_8 | Specie_9 | ⋯ | Specie_35 | Specie_36 | Specie_37 | Specie_38 | Specie_39 | Specie_40 | Specie_41 | Specie_42 | Specie_43 | Specie_44 |\n",
       "|---|---|---|---|---|---|---|---|---|---|---|---|---|---|---|---|---|---|---|---|---|---|\n",
       "| Site0 |  43 | 109 | 263 | 365 | 127 | 366 | 281 |  72 |  33 | 422 | ⋯ | 661 | 657 | 328 | 687 | 107 | 627 | 25 | 527 | 302 | 32 |\n",
       "| Site1 | 306 |   9 | 126 | 433 | 202 | 666 | 177 | 231 |  98 |  41 | ⋯ |  30 | 247 | 163 | 626 | 685 |  67 | 53 |  76 | 165 | 43 |\n",
       "| Site2 | 240 | 103 | 275 |  13 | 223 | 595 | 211 | 126 | 294 |   6 | ⋯ | 709 | 149 | 134 | 468 | 606 | 381 | 38 | 240 | 328 | 46 |\n",
       "| Site3 | 548 | 141 | 380 | 145 |  64 | 659 | 214 | 302 |  38 | 477 | ⋯ | 323 | 488 | 465 | 181 | 208 |  21 | 27 | 518 | 262 | 58 |\n",
       "| Site4 | 531 | 168 | 354 | 396 | 105 | 244 | 494 | 472 |   7 | 365 | ⋯ | 471 | 160 | 292 | 244 | 229 | 465 |  7 |  71 |  51 | 41 |\n",
       "| Site5 | 257 |  17 | 200 | 229 | 206 | 178 | 339 | 343 | 255 | 543 | ⋯ | 600 | 463 | 481 |  74 | 276 | 251 | 51 | 419 | 216 |  5 |\n",
       "| Site6 | 331 | 166 |  37 |   3 | 216 | 428 | 374 | 105 |  60 | 146 | ⋯ | 130 | 687 | 346 | 787 | 203 | 297 | 32 | 588 | 250 |  1 |\n",
       "| Site7 | 207 |  85 | 500 | 210 | 157 | 113 |  73 | 216 | 132 | 838 | ⋯ | 212 | 797 | 424 | 565 |  80 | 491 | 31 | 574 | 153 | 57 |\n",
       "| Site8 | 556 |  83 | 457 | 165 | 180 | 145 | 156 | 161 |  72 |  10 | ⋯ | 434 | 264 | 216 | 565 | 524 | 589 |  7 | 593 |  35 | 58 |\n",
       "| Site9 | 601 | 184 | 367 | 303 | 216 | 208 |  15 | 400 |  30 | 716 | ⋯ | 630 | 695 | 518 | 721 | 511 | 257 | 56 | 222 | 147 | 32 |\n",
       "| Site10 |  28 |  30 | 281 | 162 | 161 |  36 | 142 | 144 |  48 | 725 | ⋯ | 455 | 167 | 188 | 312 | 542 | 102 | 30 | 244 | 352 | 18 |\n",
       "| Site11 | 227 | 131 | 369 | 492 |  45 | 192 | 173 | 433 |  13 | 537 | ⋯ | 387 |  27 | 342 | 486 | 491 | 134 | 33 | 262 |  65 | 32 |\n",
       "| Site12 | 645 |  29 | 220 | 295 | 183 | 531 |  50 | 157 |  80 | 921 | ⋯ | 431 |  41 | 129 | 210 | 492 | 254 | 23 | 370 | 341 | 49 |\n",
       "| Site13 | 616 | 149 | 183 |  65 | 145 | 539 | 106 |  25 | 264 |   8 | ⋯ | 704 | 757 |  86 | 339 | 483 | 545 |  2 | 238 |  84 | 18 |\n",
       "| Site14 | 515 |   6 | 293 | 261 | 189 | 452 | 171 | 536 |  51 | 131 | ⋯ | 251 | 292 | 532 |  46 | 591 | 291 | 46 | 123 |  28 | 29 |\n",
       "\n"
      ],
      "text/plain": [
       "       Specie_0 Specie_1 Specie_2 Specie_3 Specie_4 Specie_5 Specie_6 Specie_7\n",
       "Site0   43      109      263      365      127      366      281       72     \n",
       "Site1  306        9      126      433      202      666      177      231     \n",
       "Site2  240      103      275       13      223      595      211      126     \n",
       "Site3  548      141      380      145       64      659      214      302     \n",
       "Site4  531      168      354      396      105      244      494      472     \n",
       "Site5  257       17      200      229      206      178      339      343     \n",
       "Site6  331      166       37        3      216      428      374      105     \n",
       "Site7  207       85      500      210      157      113       73      216     \n",
       "Site8  556       83      457      165      180      145      156      161     \n",
       "Site9  601      184      367      303      216      208       15      400     \n",
       "Site10  28       30      281      162      161       36      142      144     \n",
       "Site11 227      131      369      492       45      192      173      433     \n",
       "Site12 645       29      220      295      183      531       50      157     \n",
       "Site13 616      149      183       65      145      539      106       25     \n",
       "Site14 515        6      293      261      189      452      171      536     \n",
       "       Specie_8 Specie_9 ⋯ Specie_35 Specie_36 Specie_37 Specie_38 Specie_39\n",
       "Site0   33      422      ⋯ 661       657       328       687       107      \n",
       "Site1   98       41      ⋯  30       247       163       626       685      \n",
       "Site2  294        6      ⋯ 709       149       134       468       606      \n",
       "Site3   38      477      ⋯ 323       488       465       181       208      \n",
       "Site4    7      365      ⋯ 471       160       292       244       229      \n",
       "Site5  255      543      ⋯ 600       463       481        74       276      \n",
       "Site6   60      146      ⋯ 130       687       346       787       203      \n",
       "Site7  132      838      ⋯ 212       797       424       565        80      \n",
       "Site8   72       10      ⋯ 434       264       216       565       524      \n",
       "Site9   30      716      ⋯ 630       695       518       721       511      \n",
       "Site10  48      725      ⋯ 455       167       188       312       542      \n",
       "Site11  13      537      ⋯ 387        27       342       486       491      \n",
       "Site12  80      921      ⋯ 431        41       129       210       492      \n",
       "Site13 264        8      ⋯ 704       757        86       339       483      \n",
       "Site14  51      131      ⋯ 251       292       532        46       591      \n",
       "       Specie_40 Specie_41 Specie_42 Specie_43 Specie_44\n",
       "Site0  627       25        527       302       32       \n",
       "Site1   67       53         76       165       43       \n",
       "Site2  381       38        240       328       46       \n",
       "Site3   21       27        518       262       58       \n",
       "Site4  465        7         71        51       41       \n",
       "Site5  251       51        419       216        5       \n",
       "Site6  297       32        588       250        1       \n",
       "Site7  491       31        574       153       57       \n",
       "Site8  589        7        593        35       58       \n",
       "Site9  257       56        222       147       32       \n",
       "Site10 102       30        244       352       18       \n",
       "Site11 134       33        262        65       32       \n",
       "Site12 254       23        370       341       49       \n",
       "Site13 545        2        238        84       18       \n",
       "Site14 291       46        123        28       29       "
      ]
     },
     "metadata": {},
     "output_type": "display_data"
    }
   ],
   "source": [
    "t(random_data)"
   ]
  },
  {
   "cell_type": "code",
   "execution_count": 5,
   "metadata": {},
   "outputs": [
    {
     "data": {
      "text/plain": [
       "           Site0     Site1     Site2     Site3     Site4     Site5     Site6\n",
       "Site1  0.4086027                                                            \n",
       "Site2  0.3731480 0.2930548                                                  \n",
       "Site3  0.3813949 0.3832315 0.3670198                                        \n",
       "Site4  0.3981809 0.3841758 0.3722925 0.2685638                              \n",
       "Site5  0.3227490 0.3733470 0.3362504 0.3121940 0.3191526                    \n",
       "Site6  0.2851173 0.3416227 0.3579146 0.3351219 0.3781013 0.3217072          \n",
       "Site7  0.2700574 0.3488019 0.3653352 0.3196552 0.3278865 0.2436053 0.2613055\n",
       "Site8  0.4166550 0.3712949 0.3365371 0.3353364 0.2770900 0.3612880 0.3389560\n",
       "Site9  0.3485420 0.3409896 0.3547316 0.2746023 0.2724933 0.2270476 0.3011837\n",
       "Site10 0.4206561 0.4435955 0.3040199 0.3260306 0.3242198 0.3437515 0.4151043\n",
       "Site11 0.3816335 0.3114998 0.3103448 0.3232219 0.2355908 0.2746822 0.3488310\n",
       "Site12 0.3529544 0.3842249 0.3542690 0.3089788 0.3330141 0.3066374 0.3339667\n",
       "Site13 0.4378188 0.3948300 0.3052925 0.3265135 0.3300179 0.4028513 0.3751690\n",
       "Site14 0.4252230 0.3040547 0.3248562 0.2725904 0.3055794 0.3125854 0.3618779\n",
       "           Site7     Site8     Site9    Site10    Site11    Site12    Site13\n",
       "Site1                                                                       \n",
       "Site2                                                                       \n",
       "Site3                                                                       \n",
       "Site4                                                                       \n",
       "Site5                                                                       \n",
       "Site6                                                                       \n",
       "Site7                                                                       \n",
       "Site8  0.2711251                                                            \n",
       "Site9  0.2625034 0.3215342                                                  \n",
       "Site10 0.3454270 0.3579393 0.3129771                                        \n",
       "Site11 0.2525202 0.2968920 0.2592262 0.2820036                              \n",
       "Site12 0.3144184 0.3459102 0.2840890 0.2490727 0.3046113                    \n",
       "Site13 0.3977421 0.3118168 0.3218956 0.3665956 0.4035722 0.3528525          \n",
       "Site14 0.3616538 0.3401010 0.2638795 0.3452061 0.3155786 0.2921266 0.3572953"
      ]
     },
     "metadata": {},
     "output_type": "display_data"
    }
   ],
   "source": [
    "bray_dist = vegdist(t(random_data), method = \"bray\")\n",
    "bray_dist"
   ]
  },
  {
   "cell_type": "code",
   "execution_count": 6,
   "metadata": {},
   "outputs": [
    {
     "data": {
      "text/html": [
       "99.990766389422"
      ],
      "text/latex": [
       "99.990766389422"
      ],
      "text/markdown": [
       "99.990766389422"
      ],
      "text/plain": [
       "[1] 99.99077"
      ]
     },
     "metadata": {},
     "output_type": "display_data"
    }
   ],
   "source": [
    "OTU_table = t(random_data)\n",
    "#各サンプル、１リード増えるごとの傾きをリスト形式で一括出力（要計算時間）\n",
    "rareslopelist<-list()\n",
    "for(i in 1:nrow(OTU_table)){\n",
    "  rareslopelist[[i]]<-rareslope(OTU_table[i,],1:(sum(OTU_table[i,])-1))\n",
    "}#最後の1リードを入れずに「-1」としているのは、最後の1リードについては傾きが計算できない（0になる）ため\n",
    "\n",
    "#最後のリードの傾きが最も大きい（＝カバー率が最も低い）サンプルを探す\n",
    "getmincov<-c()\n",
    "  for(i in 1:nrow(OTU_table)){\n",
    "    getmincov[i]<-rareslopelist[[i]][length(rareslopelist[[i]])]\n",
    "}#最後の1リードの傾きだけをベクトルでとってくる\n",
    "\n",
    "(1-max(getmincov))*100　#カバレッジの％を確認\n",
    "\n",
    "#指定したカバレッジに到達した（＝傾きが指定値を下回る）瞬間のリード数をサンプルごとに採ってくる\n",
    "cvrfun<-function(x){min(which(x<=max(getmincov)))+1} #関数を設定。上記で1を引いた分を足し戻す\n",
    "cvrrare<-unlist(lapply(rareslopelist,cvrfun))　#lapply+unlistでベクトル形式にして一括で値を取得\n",
    "\n",
    "set.seed(123) #再現性をとるためにランダム変数を固定（数字は何でもいい）\n",
    "OTU_covrared<-rrarefy(OTU_table,cvrrare) \n",
    "write.csv(OTU_covrared,\"covarage_rared_random.csv\") "
   ]
  },
  {
   "cell_type": "code",
   "execution_count": 7,
   "metadata": {},
   "outputs": [],
   "source": [
    "set.seed(123) #NMDSの再現性を担保するため、ランダム変数を固定（数字はなんでもいい）\n",
    "nmds<-metaMDS(OTU_covrared,k=2,trymax=5, trace =FALSE) "
   ]
  },
  {
   "cell_type": "code",
   "execution_count": 8,
   "metadata": {},
   "outputs": [
    {
     "data": {
      "text/html": [
       "0.179454257835524"
      ],
      "text/latex": [
       "0.179454257835524"
      ],
      "text/markdown": [
       "0.179454257835524"
      ],
      "text/plain": [
       "[1] 0.1794543"
      ]
     },
     "metadata": {},
     "output_type": "display_data"
    }
   ],
   "source": [
    "nmds$stress"
   ]
  },
  {
   "cell_type": "code",
   "execution_count": 9,
   "metadata": {},
   "outputs": [
    {
     "data": {
      "image/png": "[encoded data removed]",
      "text/plain": [
       "plot without title"
      ]
     },
     "metadata": {
      "image/png": {
       "height": 420,
       "width": 420
      }
     },
     "output_type": "display_data"
    }
   ],
   "source": [
    "ordiplot(nmds,type=\"n\") #枠を書く\n",
    "orditorp(nmds,display=\"sites\",air=0.1,cex=1)　#点を書く"
   ]
  },
  {
   "cell_type": "code",
   "execution_count": null,
   "metadata": {},
   "outputs": [],
   "source": []
  }
 ],
 "metadata": {
  "kernelspec": {
   "display_name": "R",
   "language": "R",
   "name": "ir"
  },
  "language_info": {
   "codemirror_mode": "r",
   "file_extension": ".r",
   "mimetype": "text/x-r-source",
   "name": "R",
   "pygments_lexer": "r",
   "version": "4.0.3"
  }
 },
 "nbformat": 4,
 "nbformat_minor": 4
}
