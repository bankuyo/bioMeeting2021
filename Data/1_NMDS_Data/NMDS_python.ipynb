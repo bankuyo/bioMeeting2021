{
 "cells": [
  {
   "cell_type": "markdown",
   "metadata": {},
   "source": [
    "# NMDS\n",
    "- https://dev.classmethod.jp/articles/mds-for-parks/\n",
    "- https://scikit-learn.org/stable/modules/generated/sklearn.manifold.MDS.html\n",
    "- https://docs.scipy.org/doc/scipy/reference/generated/scipy.spatial.distance.braycurtis.html\n",
    "\n",
    "---\n",
    "## Agenda\n",
    "1. **First Example (MDS)**\n",
    "    1. Import libraries\n",
    "    1. Create data\n",
    "        - The distance between five main prefecture in Japan\n",
    "    1. Create MDS class\n",
    "    1. Apply MDS\n",
    "1. **Second Example (NMDS)**\n",
    "    1. Create data\n",
    "    1. Calculate Bray Curtis Distance\n",
    "    1. Create NMDS class\n",
    "    1. Apply NMDS\n",
    "1. **Export data for R**\n",
    "---"
   ]
  },
  {
   "cell_type": "markdown",
   "metadata": {},
   "source": [
    "## Import Libraries\n",
    "- Using sklearn to execute MDS"
   ]
  },
  {
   "cell_type": "code",
   "execution_count": 1,
   "metadata": {},
   "outputs": [],
   "source": [
    "import pandas as pd\n",
    "import numpy as np\n",
    "import matplotlib.pyplot as plt\n",
    "\"\"\"↓ Library for nmds \"\"\"\n",
    "from sklearn import manifold"
   ]
  },
  {
   "cell_type": "markdown",
   "metadata": {},
   "source": [
    "## Create Data\n",
    "- Tokyo / Osaka / Fukuoka / Hokkaido / Tokushima"
   ]
  },
  {
   "cell_type": "code",
   "execution_count": 2,
   "metadata": {},
   "outputs": [],
   "source": [
    "dist_japan = [[0, 401, 886, 835, 506],\n",
    "              [401, 0, 486, 1060, 111],\n",
    "              [886, 486, 0, 1421, 388],\n",
    "              [835, 1060, 1421, 0, 1162],\n",
    "              [506, 111, 388, 1162, 0]]"
   ]
  },
  {
   "cell_type": "markdown",
   "metadata": {},
   "source": [
    "## Create MDS Class\n",
    "- n_components : The number of scale we transform\n",
    "- dissimilarity : \"precomputed\" or \"euclidean\"\n",
    "    1. \"precomputed\" : The input data is already in distance matrix\n",
    "    1. \"euclidean\" : Translate the input data to euclidean distance matrix"
   ]
  },
  {
   "cell_type": "code",
   "execution_count": 3,
   "metadata": {},
   "outputs": [],
   "source": [
    "mds = manifold.MDS(n_components=2, \n",
    "                   dissimilarity = \"precomputed\",\n",
    "                   metric = True,\n",
    "                   random_state = 6)"
   ]
  },
  {
   "cell_type": "markdown",
   "metadata": {},
   "source": [
    "## Apply MDS"
   ]
  },
  {
   "cell_type": "code",
   "execution_count": 4,
   "metadata": {},
   "outputs": [],
   "source": [
    "pos = mds.fit_transform(dist_japan)"
   ]
  },
  {
   "cell_type": "code",
   "execution_count": 6,
   "metadata": {},
   "outputs": [
    {
     "data": {
      "image/png": "[encoded data removed]",
      "text/plain": [
       "<Figure size 432x288 with 1 Axes>"
      ]
     },
     "metadata": {
      "needs_background": "light"
     },
     "output_type": "display_data"
    }
   ],
   "source": [
    "# labels for plot\n",
    "labels = [\"Tokyo\", \"Osaka\", \"Fukuoka\", \"Hokkaido\", \"Tokushima\"]\n",
    "\n",
    "# plot the data\n",
    "plt.scatter(pos[:, 0], -pos[:, 1], marker = 'o')\n",
    "\n",
    "# Annotate the data\n",
    "for label, x, y in zip(labels, pos[:, 0], -pos[:, 1]):\n",
    "    plt.annotate(\n",
    "        label,\n",
    "        xy = (x, y), xytext = (18, 10),\n",
    "        textcoords = 'offset points', ha = 'right', va = 'bottom',\n",
    "        bbox = dict(boxstyle = 'round,pad=0.5', fc = 'yellow', alpha = 0.5),\n",
    "        arrowprops = dict(arrowstyle = '->', connectionstyle = 'arc3,rad=0')\n",
    "    )\n",
    "\n",
    "plt.show()"
   ]
  },
  {
   "cell_type": "markdown",
   "metadata": {},
   "source": [
    "---\n",
    "# Second example\n",
    "- Sampling some species from each site"
   ]
  },
  {
   "cell_type": "markdown",
   "metadata": {},
   "source": [
    "## Create Data "
   ]
  },
  {
   "cell_type": "code",
   "execution_count": 7,
   "metadata": {},
   "outputs": [],
   "source": [
    "# Species data\n",
    "species = [[120, 60, 120, 30, 50],\n",
    "           [600, 720, 230, 400, 500],\n",
    "           [50, 80, 20, 150, 200],\n",
    "           [225, 230, 320, 20, 10],\n",
    "           [1200, 2300, 500, 230,10],\n",
    "           [600, 363, 150, 200 , 200]]\n",
    "# label\n",
    "labels = [\"Site1\", \"Site2\", \"Site3\", \"Site4\", \"Site5\"]\n",
    "index = [\"S_1\", \"S_2\", \"S_3\", \"S_4\", \"S_5\", \"S_6\"]"
   ]
  },
  {
   "cell_type": "code",
   "execution_count": 14,
   "metadata": {},
   "outputs": [
    {
     "data": {
      "text/html": [
       "<div>\n",
       "<style scoped>\n",
       "    .dataframe tbody tr th:only-of-type {\n",
       "        vertical-align: middle;\n",
       "    }\n",
       "\n",
       "    .dataframe tbody tr th {\n",
       "        vertical-align: top;\n",
       "    }\n",
       "\n",
       "    .dataframe thead th {\n",
       "        text-align: right;\n",
       "    }\n",
       "</style>\n",
       "<table border=\"1\" class=\"dataframe\">\n",
       "  <thead>\n",
       "    <tr style=\"text-align: right;\">\n",
       "      <th></th>\n",
       "      <th>Site1</th>\n",
       "      <th>Site2</th>\n",
       "      <th>Site3</th>\n",
       "      <th>Site4</th>\n",
       "      <th>Site5</th>\n",
       "    </tr>\n",
       "  </thead>\n",
       "  <tbody>\n",
       "    <tr>\n",
       "      <th>S_1</th>\n",
       "      <td>120</td>\n",
       "      <td>60</td>\n",
       "      <td>120</td>\n",
       "      <td>30</td>\n",
       "      <td>50</td>\n",
       "    </tr>\n",
       "    <tr>\n",
       "      <th>S_2</th>\n",
       "      <td>600</td>\n",
       "      <td>720</td>\n",
       "      <td>230</td>\n",
       "      <td>400</td>\n",
       "      <td>500</td>\n",
       "    </tr>\n",
       "    <tr>\n",
       "      <th>S_3</th>\n",
       "      <td>50</td>\n",
       "      <td>80</td>\n",
       "      <td>20</td>\n",
       "      <td>150</td>\n",
       "      <td>200</td>\n",
       "    </tr>\n",
       "    <tr>\n",
       "      <th>S_4</th>\n",
       "      <td>225</td>\n",
       "      <td>230</td>\n",
       "      <td>320</td>\n",
       "      <td>20</td>\n",
       "      <td>10</td>\n",
       "    </tr>\n",
       "    <tr>\n",
       "      <th>S_5</th>\n",
       "      <td>1200</td>\n",
       "      <td>2300</td>\n",
       "      <td>500</td>\n",
       "      <td>230</td>\n",
       "      <td>10</td>\n",
       "    </tr>\n",
       "    <tr>\n",
       "      <th>S_6</th>\n",
       "      <td>600</td>\n",
       "      <td>363</td>\n",
       "      <td>150</td>\n",
       "      <td>200</td>\n",
       "      <td>200</td>\n",
       "    </tr>\n",
       "  </tbody>\n",
       "</table>\n",
       "</div>"
      ],
      "text/plain": [
       "     Site1  Site2  Site3  Site4  Site5\n",
       "S_1    120     60    120     30     50\n",
       "S_2    600    720    230    400    500\n",
       "S_3     50     80     20    150    200\n",
       "S_4    225    230    320     20     10\n",
       "S_5   1200   2300    500    230     10\n",
       "S_6    600    363    150    200    200"
      ]
     },
     "execution_count": 14,
     "metadata": {},
     "output_type": "execute_result"
    }
   ],
   "source": [
    "# Arrange the data\n",
    "species_df = pd.DataFrame(species, columns = labels, index = index)\n",
    "species_val = species_df.values.T\n",
    "species_df"
   ]
  },
  {
   "cell_type": "markdown",
   "metadata": {},
   "source": [
    "## Calculate the Bray curtis distance"
   ]
  },
  {
   "cell_type": "code",
   "execution_count": 9,
   "metadata": {},
   "outputs": [],
   "source": [
    "# Calculate Bray Curtis dissimilarity matrix\n",
    "from scipy.spatial import distance\n",
    "\n",
    "# Declare a table and a array to preserve result\n",
    "table = {}\n",
    "bray_curtis = []\n",
    "num_site = len(species_val)\n",
    "\n",
    "# Create the bray curtis matrix\n",
    "for i in range(num_site) :\n",
    "    current_dist = []\n",
    "    for j in range(num_site):\n",
    "        if  not (i,j) in table or (j,i) in table:\n",
    "            table[(i,j)] = distance.braycurtis(species[i],species[j])\n",
    "            table[(j,i)] = table[(i,j)]\n",
    "        current_dist.append(table[(i,j)])\n",
    "    bray_curtis.append(current_dist)"
   ]
  },
  {
   "cell_type": "code",
   "execution_count": 10,
   "metadata": {},
   "outputs": [
    {
     "data": {
      "text/html": [
       "<div>\n",
       "<style scoped>\n",
       "    .dataframe tbody tr th:only-of-type {\n",
       "        vertical-align: middle;\n",
       "    }\n",
       "\n",
       "    .dataframe tbody tr th {\n",
       "        vertical-align: top;\n",
       "    }\n",
       "\n",
       "    .dataframe thead th {\n",
       "        text-align: right;\n",
       "    }\n",
       "</style>\n",
       "<table border=\"1\" class=\"dataframe\">\n",
       "  <thead>\n",
       "    <tr style=\"text-align: right;\">\n",
       "      <th></th>\n",
       "      <th>0</th>\n",
       "      <th>1</th>\n",
       "      <th>2</th>\n",
       "      <th>3</th>\n",
       "      <th>4</th>\n",
       "    </tr>\n",
       "  </thead>\n",
       "  <tbody>\n",
       "    <tr>\n",
       "      <th>0</th>\n",
       "      <td>0.000000</td>\n",
       "      <td>0.731449</td>\n",
       "      <td>0.522727</td>\n",
       "      <td>0.443038</td>\n",
       "      <td>0.852814</td>\n",
       "    </tr>\n",
       "    <tr>\n",
       "      <th>1</th>\n",
       "      <td>0.731449</td>\n",
       "      <td>0.000000</td>\n",
       "      <td>0.661017</td>\n",
       "      <td>0.560676</td>\n",
       "      <td>0.464873</td>\n",
       "    </tr>\n",
       "    <tr>\n",
       "      <th>2</th>\n",
       "      <td>0.522727</td>\n",
       "      <td>0.661017</td>\n",
       "      <td>0.000000</td>\n",
       "      <td>0.724138</td>\n",
       "      <td>0.869198</td>\n",
       "    </tr>\n",
       "    <tr>\n",
       "      <th>3</th>\n",
       "      <td>0.443038</td>\n",
       "      <td>0.560676</td>\n",
       "      <td>0.724138</td>\n",
       "      <td>0.000000</td>\n",
       "      <td>0.680872</td>\n",
       "    </tr>\n",
       "    <tr>\n",
       "      <th>4</th>\n",
       "      <td>0.852814</td>\n",
       "      <td>0.464873</td>\n",
       "      <td>0.869198</td>\n",
       "      <td>0.680872</td>\n",
       "      <td>0.000000</td>\n",
       "    </tr>\n",
       "  </tbody>\n",
       "</table>\n",
       "</div>"
      ],
      "text/plain": [
       "          0         1         2         3         4\n",
       "0  0.000000  0.731449  0.522727  0.443038  0.852814\n",
       "1  0.731449  0.000000  0.661017  0.560676  0.464873\n",
       "2  0.522727  0.661017  0.000000  0.724138  0.869198\n",
       "3  0.443038  0.560676  0.724138  0.000000  0.680872\n",
       "4  0.852814  0.464873  0.869198  0.680872  0.000000"
      ]
     },
     "execution_count": 10,
     "metadata": {},
     "output_type": "execute_result"
    }
   ],
   "source": [
    "pd.DataFrame(bray_curtis)"
   ]
  },
  {
   "cell_type": "markdown",
   "metadata": {},
   "source": [
    "## Create the NMDS class\n",
    "- metric : \n",
    "    - True (default) => parametric\n",
    "    - False => non-parametric"
   ]
  },
  {
   "cell_type": "code",
   "execution_count": 11,
   "metadata": {},
   "outputs": [],
   "source": [
    "mds = manifold.MDS(n_components=2, \n",
    "                   dissimilarity = \"precomputed\",\n",
    "                   metric = False,\n",
    "                   random_state = 6)"
   ]
  },
  {
   "cell_type": "markdown",
   "metadata": {},
   "source": [
    "## Apply NMDS"
   ]
  },
  {
   "cell_type": "code",
   "execution_count": 12,
   "metadata": {},
   "outputs": [],
   "source": [
    "pos = mds.fit_transform(bray_curtis)"
   ]
  },
  {
   "cell_type": "code",
   "execution_count": 13,
   "metadata": {},
   "outputs": [
    {
     "data": {
      "image/png": "[encoded data removed]",
      "text/plain": [
       "<Figure size 432x288 with 1 Axes>"
      ]
     },
     "metadata": {
      "needs_background": "light"
     },
     "output_type": "display_data"
    }
   ],
   "source": [
    "plt.scatter(pos[:, 0], -pos[:, 1], marker = 'o')\n",
    "\n",
    "for label, x, y in zip(labels, pos[:, 0], -pos[:, 1]):\n",
    "    plt.annotate(\n",
    "        label,\n",
    "        xy = (x, y), xytext = (18, 10),\n",
    "        textcoords = 'offset points', ha = 'right', va = 'bottom',\n",
    "        bbox = dict(boxstyle = 'round,pad=0.5', fc = 'yellow', alpha = 0.5),\n",
    "        arrowprops = dict(arrowstyle = '->', connectionstyle = 'arc3,rad=0')\n",
    "    )\n",
    "\n",
    "plt.show()"
   ]
  },
  {
   "cell_type": "markdown",
   "metadata": {},
   "source": [
    "---\n",
    "# Export the data to use at R"
   ]
  },
  {
   "cell_type": "code",
   "execution_count": 17,
   "metadata": {},
   "outputs": [],
   "source": [
    "species_df.to_csv(\"./species_data.csv\", index = False)"
   ]
  },
  {
   "cell_type": "code",
   "execution_count": null,
   "metadata": {},
   "outputs": [],
   "source": []
  }
 ],
 "metadata": {
  "kernelspec": {
   "display_name": "Python 3",
   "language": "python",
   "name": "python3"
  },
  "language_info": {
   "codemirror_mode": {
    "name": "ipython",
    "version": 3
   },
   "file_extension": ".py",
   "mimetype": "text/x-python",
   "name": "python",
   "nbconvert_exporter": "python",
   "pygments_lexer": "ipython3",
   "version": "3.8.6"
  }
 },
 "nbformat": 4,
 "nbformat_minor": 4
}
