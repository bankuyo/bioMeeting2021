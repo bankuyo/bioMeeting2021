{
 "cells": [
  {
   "cell_type": "markdown",
   "metadata": {},
   "source": [
    "# NMDS\n",
    "- https://dev.classmethod.jp/articles/mds-for-parks/\n",
    "- https://scikit-learn.org/stable/modules/generated/sklearn.manifold.MDS.html\n",
    "- https://docs.scipy.org/doc/scipy/reference/generated/scipy.spatial.distance.braycurtis.html\n",
    "\n",
    "---\n",
    "## Agenda\n",
    "1. **First Example (MDS)**\n",
    "    1. Import libraries\n",
    "    1. Create data\n",
    "        - The distance between five main prefecture in Japan\n",
    "    1. Create MDS class\n",
    "    1. Apply MDS\n",
    "1. **Second Example (NMDS)**\n",
    "    1. Create data\n",
    "    1. Calculate Bray Curtis Distance\n",
    "    1. Create NMDS class\n",
    "    1. Apply NMDS\n",
    "1. **Export data for R**\n",
    "---"
   ]
  },
  {
   "cell_type": "markdown",
   "metadata": {},
   "source": [
    "## Import Libraries\n",
    "- Using sklearn to execute MDS"
   ]
  },
  {
   "cell_type": "code",
   "execution_count": 1,
   "metadata": {},
   "outputs": [],
   "source": [
    "import pandas as pd\n",
    "import numpy as np\n",
    "import matplotlib.pyplot as plt\n",
    "\"\"\"↓ Library for nmds \"\"\"\n",
    "from sklearn import manifold"
   ]
  },
  {
   "cell_type": "markdown",
   "metadata": {},
   "source": [
    "## Create Data\n",
    "- Tokyo / Osaka / Fukuoka / Hokkaido / Tokushima"
   ]
  },
  {
   "cell_type": "code",
   "execution_count": 2,
   "metadata": {},
   "outputs": [],
   "source": [
    "dist_japan = [[0, 401, 886, 835, 506],\n",
    "              [401, 0, 486, 1060, 111],\n",
    "              [886, 486, 0, 1421, 388],\n",
    "              [835, 1060, 1421, 0, 1162],\n",
    "              [506, 111, 388, 1162, 0]]"
   ]
  },
  {
   "cell_type": "markdown",
   "metadata": {},
   "source": [
    "## Create MDS Class\n",
    "- n_components : The number of scale we transform\n",
    "- dissimilarity : \"precomputed\" or \"euclidean\"\n",
    "    1. \"precomputed\" : The input data is already in distance matrix\n",
    "    1. \"euclidean\" : Translate the input data to euclidean distance matrix"
   ]
  },
  {
   "cell_type": "code",
   "execution_count": 3,
   "metadata": {},
   "outputs": [],
   "source": [
    "mds = manifold.MDS(n_components=2, \n",
    "                   dissimilarity = \"precomputed\",\n",
    "                   metric = True,\n",
    "                   random_state = 6)"
   ]
  },
  {
   "cell_type": "markdown",
   "metadata": {},
   "source": [
    "## Apply MDS"
   ]
  },
  {
   "cell_type": "code",
   "execution_count": 4,
   "metadata": {},
   "outputs": [],
   "source": [
    "pos = mds.fit_transform(dist_japan)"
   ]
  },
  {
   "cell_type": "code",
   "execution_count": 5,
   "metadata": {},
   "outputs": [
    {
     "data": {
      "image/png": "[encoded data removed]",
      "text/plain": [
       "<Figure size 432x288 with 1 Axes>"
      ]
     },
     "metadata": {
      "needs_background": "light"
     },
     "output_type": "display_data"
    }
   ],
   "source": [
    "# labels for plot\n",
    "labels = [\"Tokyo\", \"Osaka\", \"Fukuoka\", \"Hokkaido\", \"Tokushima\"]\n",
    "\n",
    "# plot the data\n",
    "plt.scatter(pos[:, 0], -pos[:, 1], marker = 'o')\n",
    "\n",
    "# Annotate the data\n",
    "for label, x, y in zip(labels, pos[:, 0], -pos[:, 1]):\n",
    "    plt.annotate(\n",
    "        label,\n",
    "        xy = (x, y), xytext = (18, 10),\n",
    "        textcoords = 'offset points', ha = 'right', va = 'bottom',\n",
    "        bbox = dict(boxstyle = 'round,pad=0.5', fc = 'yellow', alpha = 0.5),\n",
    "        arrowprops = dict(arrowstyle = '->', connectionstyle = 'arc3,rad=0')\n",
    "    )\n",
    "\n",
    "plt.show()"
   ]
  },
  {
   "cell_type": "markdown",
   "metadata": {},
   "source": [
    "---\n",
    "# Second example\n",
    "- Sampling some species from each site"
   ]
  },
  {
   "cell_type": "markdown",
   "metadata": {},
   "source": [
    "## Create Data "
   ]
  },
  {
   "cell_type": "code",
   "execution_count": 95,
   "metadata": {},
   "outputs": [],
   "source": [
    "# Species data\n",
    "species = [[120, 60, 120, 30, 50],\n",
    "           [600, 720, 230, 400, 500],\n",
    "           [50, 80, 20, 150, 200],\n",
    "           [225, 230, 320, 20, 10],\n",
    "           [1200, 2300, 500, 230,10],\n",
    "           [600, 363, 150, 200 , 200]]\n",
    "# label\n",
    "labels = [\"Site1\", \"Site2\", \"Site3\", \"Site4\", \"Site5\"]\n",
    "index = [\"S_1\", \"S_2\", \"S_3\", \"S_4\", \"S_5\", \"S_6\"]"
   ]
  },
  {
   "cell_type": "code",
   "execution_count": 97,
   "metadata": {},
   "outputs": [
    {
     "data": {
      "text/html": [
       "<div>\n",
       "<style scoped>\n",
       "    .dataframe tbody tr th:only-of-type {\n",
       "        vertical-align: middle;\n",
       "    }\n",
       "\n",
       "    .dataframe tbody tr th {\n",
       "        vertical-align: top;\n",
       "    }\n",
       "\n",
       "    .dataframe thead th {\n",
       "        text-align: right;\n",
       "    }\n",
       "</style>\n",
       "<table border=\"1\" class=\"dataframe\">\n",
       "  <thead>\n",
       "    <tr style=\"text-align: right;\">\n",
       "      <th></th>\n",
       "      <th>Site1</th>\n",
       "      <th>Site2</th>\n",
       "      <th>Site3</th>\n",
       "      <th>Site4</th>\n",
       "      <th>Site5</th>\n",
       "    </tr>\n",
       "  </thead>\n",
       "  <tbody>\n",
       "    <tr>\n",
       "      <th>S_1</th>\n",
       "      <td>120</td>\n",
       "      <td>60</td>\n",
       "      <td>120</td>\n",
       "      <td>30</td>\n",
       "      <td>50</td>\n",
       "    </tr>\n",
       "    <tr>\n",
       "      <th>S_2</th>\n",
       "      <td>600</td>\n",
       "      <td>720</td>\n",
       "      <td>230</td>\n",
       "      <td>400</td>\n",
       "      <td>500</td>\n",
       "    </tr>\n",
       "    <tr>\n",
       "      <th>S_3</th>\n",
       "      <td>50</td>\n",
       "      <td>80</td>\n",
       "      <td>20</td>\n",
       "      <td>150</td>\n",
       "      <td>200</td>\n",
       "    </tr>\n",
       "    <tr>\n",
       "      <th>S_4</th>\n",
       "      <td>225</td>\n",
       "      <td>230</td>\n",
       "      <td>320</td>\n",
       "      <td>20</td>\n",
       "      <td>10</td>\n",
       "    </tr>\n",
       "    <tr>\n",
       "      <th>S_5</th>\n",
       "      <td>1200</td>\n",
       "      <td>2300</td>\n",
       "      <td>500</td>\n",
       "      <td>230</td>\n",
       "      <td>10</td>\n",
       "    </tr>\n",
       "    <tr>\n",
       "      <th>S_6</th>\n",
       "      <td>600</td>\n",
       "      <td>363</td>\n",
       "      <td>150</td>\n",
       "      <td>200</td>\n",
       "      <td>200</td>\n",
       "    </tr>\n",
       "  </tbody>\n",
       "</table>\n",
       "</div>"
      ],
      "text/plain": [
       "     Site1  Site2  Site3  Site4  Site5\n",
       "S_1    120     60    120     30     50\n",
       "S_2    600    720    230    400    500\n",
       "S_3     50     80     20    150    200\n",
       "S_4    225    230    320     20     10\n",
       "S_5   1200   2300    500    230     10\n",
       "S_6    600    363    150    200    200"
      ]
     },
     "execution_count": 97,
     "metadata": {},
     "output_type": "execute_result"
    }
   ],
   "source": [
    "# Arrange the data\n",
    "species_df = pd.DataFrame(species, columns = labels, index = index)\n",
    "species_val = species_df.values.T\n",
    "species_df"
   ]
  },
  {
   "cell_type": "markdown",
   "metadata": {},
   "source": [
    "## Calculate the Bray curtis distance"
   ]
  },
  {
   "cell_type": "code",
   "execution_count": 89,
   "metadata": {},
   "outputs": [],
   "source": [
    "# Calculate Bray Curtis dissimilarity matrix\n",
    "from scipy.spatial import distance\n",
    "\n",
    "def calc_braycurtis(data):\n",
    "    # Declare a table and a array to preserve result\n",
    "    table = {}\n",
    "    bray_curtis = []\n",
    "    num_site = len(data)\n",
    "\n",
    "    # Create the bray curtis matrix\n",
    "    for i in range(num_site) :\n",
    "        current_dist = []\n",
    "        for j in range(num_site):\n",
    "            if  not (i,j) in table or (j,i) in table:\n",
    "                table[(i,j)] = distance.braycurtis(data[i],data[j])\n",
    "                table[(j,i)] = table[(i,j)]\n",
    "            current_dist.append(table[(i,j)])\n",
    "        bray_curtis.append(current_dist)\n",
    "    return bray_curtis"
   ]
  },
  {
   "cell_type": "code",
   "execution_count": 90,
   "metadata": {},
   "outputs": [
    {
     "data": {
      "text/html": [
       "<div>\n",
       "<style scoped>\n",
       "    .dataframe tbody tr th:only-of-type {\n",
       "        vertical-align: middle;\n",
       "    }\n",
       "\n",
       "    .dataframe tbody tr th {\n",
       "        vertical-align: top;\n",
       "    }\n",
       "\n",
       "    .dataframe thead th {\n",
       "        text-align: right;\n",
       "    }\n",
       "</style>\n",
       "<table border=\"1\" class=\"dataframe\">\n",
       "  <thead>\n",
       "    <tr style=\"text-align: right;\">\n",
       "      <th></th>\n",
       "      <th>0</th>\n",
       "      <th>1</th>\n",
       "      <th>2</th>\n",
       "      <th>3</th>\n",
       "      <th>4</th>\n",
       "    </tr>\n",
       "  </thead>\n",
       "  <tbody>\n",
       "    <tr>\n",
       "      <th>0</th>\n",
       "      <td>0.000000</td>\n",
       "      <td>0.237019</td>\n",
       "      <td>0.397823</td>\n",
       "      <td>0.513725</td>\n",
       "      <td>0.564409</td>\n",
       "    </tr>\n",
       "    <tr>\n",
       "      <th>1</th>\n",
       "      <td>0.237019</td>\n",
       "      <td>0.000000</td>\n",
       "      <td>0.532692</td>\n",
       "      <td>0.598578</td>\n",
       "      <td>0.640059</td>\n",
       "    </tr>\n",
       "    <tr>\n",
       "      <th>2</th>\n",
       "      <td>0.397823</td>\n",
       "      <td>0.532692</td>\n",
       "      <td>0.000000</td>\n",
       "      <td>0.426160</td>\n",
       "      <td>0.593074</td>\n",
       "    </tr>\n",
       "    <tr>\n",
       "      <th>3</th>\n",
       "      <td>0.513725</td>\n",
       "      <td>0.598578</td>\n",
       "      <td>0.426160</td>\n",
       "      <td>0.000000</td>\n",
       "      <td>0.200000</td>\n",
       "    </tr>\n",
       "    <tr>\n",
       "      <th>4</th>\n",
       "      <td>0.564409</td>\n",
       "      <td>0.640059</td>\n",
       "      <td>0.593074</td>\n",
       "      <td>0.200000</td>\n",
       "      <td>0.000000</td>\n",
       "    </tr>\n",
       "  </tbody>\n",
       "</table>\n",
       "</div>"
      ],
      "text/plain": [
       "          0         1         2         3         4\n",
       "0  0.000000  0.237019  0.397823  0.513725  0.564409\n",
       "1  0.237019  0.000000  0.532692  0.598578  0.640059\n",
       "2  0.397823  0.532692  0.000000  0.426160  0.593074\n",
       "3  0.513725  0.598578  0.426160  0.000000  0.200000\n",
       "4  0.564409  0.640059  0.593074  0.200000  0.000000"
      ]
     },
     "execution_count": 90,
     "metadata": {},
     "output_type": "execute_result"
    }
   ],
   "source": [
    "bray_curtis = calc_braycurtis(species_val)\n",
    "pd.DataFrame(bray_curtis)"
   ]
  },
  {
   "cell_type": "markdown",
   "metadata": {},
   "source": [
    "## Create the NMDS class\n",
    "- metric : \n",
    "    - True (default) => parametric\n",
    "    - False => non-parametric"
   ]
  },
  {
   "cell_type": "code",
   "execution_count": 19,
   "metadata": {},
   "outputs": [],
   "source": [
    "mds = manifold.MDS(n_components=2, \n",
    "                   dissimilarity = \"precomputed\",\n",
    "                   metric = False,\n",
    "                   random_state = 6)"
   ]
  },
  {
   "cell_type": "markdown",
   "metadata": {},
   "source": [
    "## Apply NMDS"
   ]
  },
  {
   "cell_type": "code",
   "execution_count": 20,
   "metadata": {},
   "outputs": [],
   "source": [
    "pos = mds.fit_transform(bray_curtis)"
   ]
  },
  {
   "cell_type": "code",
   "execution_count": 21,
   "metadata": {},
   "outputs": [
    {
     "data": {
      "image/png": "[encoded data removed]",
      "text/plain": [
       "<Figure size 432x288 with 1 Axes>"
      ]
     },
     "metadata": {
      "needs_background": "light"
     },
     "output_type": "display_data"
    }
   ],
   "source": [
    "plt.scatter(pos[:, 0], -pos[:, 1], marker = 'o')\n",
    "\n",
    "for label, x, y in zip(labels, pos[:, 0], -pos[:, 1]):\n",
    "    plt.annotate(\n",
    "        label,\n",
    "        xy = (x, y), xytext = (18, 10),\n",
    "        textcoords = 'offset points', ha = 'right', va = 'bottom',\n",
    "        bbox = dict(boxstyle = 'round,pad=0.5', fc = 'yellow', alpha = 0.5),\n",
    "        arrowprops = dict(arrowstyle = '->', connectionstyle = 'arc3,rad=0')\n",
    "    )\n",
    "\n",
    "plt.show()"
   ]
  },
  {
   "cell_type": "markdown",
   "metadata": {},
   "source": [
    "---\n",
    "# Export the data to use at R"
   ]
  },
  {
   "cell_type": "code",
   "execution_count": 17,
   "metadata": {},
   "outputs": [],
   "source": [
    "species_df.to_csv(\"./species_data.csv\", index = False)"
   ]
  },
  {
   "cell_type": "markdown",
   "metadata": {},
   "source": [
    "---\n",
    "## Create Random data for second example"
   ]
  },
  {
   "cell_type": "code",
   "execution_count": 84,
   "metadata": {},
   "outputs": [],
   "source": [
    "def create_data(row,column):\n",
    "    columns = [\"Site\"+str(i) for i in range(column)]\n",
    "    index = [\"Specie_\"+str(i) for i in range(row)]\n",
    "    result = np.empty((row,column))\n",
    "    for i in range(row):\n",
    "        criterion = np.random.randint(1000)\n",
    "        value_array = criterion * np.random.rand(column)\n",
    "        result[i] = value_array.astype(int)\n",
    "    return pd.DataFrame(result, columns = columns, index = index)"
   ]
  },
  {
   "cell_type": "code",
   "execution_count": 88,
   "metadata": {},
   "outputs": [],
   "source": [
    "np.random.seed(seed=32)\n",
    "#create_data(45,15).to_csv(\"./random_data.csv\")"
   ]
  },
  {
   "cell_type": "code",
   "execution_count": 114,
   "metadata": {},
   "outputs": [],
   "source": [
    "np.random.seed(seed=32)\n",
    "random_data = create_data(45,15)\n",
    "labels = random_data.columns"
   ]
  },
  {
   "cell_type": "code",
   "execution_count": 110,
   "metadata": {},
   "outputs": [
    {
     "data": {
      "text/html": [
       "<div>\n",
       "<style scoped>\n",
       "    .dataframe tbody tr th:only-of-type {\n",
       "        vertical-align: middle;\n",
       "    }\n",
       "\n",
       "    .dataframe tbody tr th {\n",
       "        vertical-align: top;\n",
       "    }\n",
       "\n",
       "    .dataframe thead th {\n",
       "        text-align: right;\n",
       "    }\n",
       "</style>\n",
       "<table border=\"1\" class=\"dataframe\">\n",
       "  <thead>\n",
       "    <tr style=\"text-align: right;\">\n",
       "      <th></th>\n",
       "      <th>0</th>\n",
       "      <th>1</th>\n",
       "      <th>2</th>\n",
       "      <th>3</th>\n",
       "      <th>4</th>\n",
       "      <th>5</th>\n",
       "      <th>6</th>\n",
       "      <th>7</th>\n",
       "      <th>8</th>\n",
       "      <th>9</th>\n",
       "      <th>10</th>\n",
       "      <th>11</th>\n",
       "      <th>12</th>\n",
       "      <th>13</th>\n",
       "      <th>14</th>\n",
       "    </tr>\n",
       "  </thead>\n",
       "  <tbody>\n",
       "    <tr>\n",
       "      <th>0</th>\n",
       "      <td>0.000000</td>\n",
       "      <td>0.408603</td>\n",
       "      <td>0.373148</td>\n",
       "      <td>0.381395</td>\n",
       "      <td>0.398181</td>\n",
       "      <td>0.322749</td>\n",
       "      <td>0.285117</td>\n",
       "      <td>0.270057</td>\n",
       "      <td>0.416655</td>\n",
       "      <td>0.348542</td>\n",
       "      <td>0.420656</td>\n",
       "      <td>0.381633</td>\n",
       "      <td>0.352954</td>\n",
       "      <td>0.437819</td>\n",
       "      <td>0.425223</td>\n",
       "    </tr>\n",
       "    <tr>\n",
       "      <th>1</th>\n",
       "      <td>0.408603</td>\n",
       "      <td>0.000000</td>\n",
       "      <td>0.293055</td>\n",
       "      <td>0.383232</td>\n",
       "      <td>0.384176</td>\n",
       "      <td>0.373347</td>\n",
       "      <td>0.341623</td>\n",
       "      <td>0.348802</td>\n",
       "      <td>0.371295</td>\n",
       "      <td>0.340990</td>\n",
       "      <td>0.443596</td>\n",
       "      <td>0.311500</td>\n",
       "      <td>0.384225</td>\n",
       "      <td>0.394830</td>\n",
       "      <td>0.304055</td>\n",
       "    </tr>\n",
       "    <tr>\n",
       "      <th>2</th>\n",
       "      <td>0.373148</td>\n",
       "      <td>0.293055</td>\n",
       "      <td>0.000000</td>\n",
       "      <td>0.367020</td>\n",
       "      <td>0.372292</td>\n",
       "      <td>0.336250</td>\n",
       "      <td>0.357915</td>\n",
       "      <td>0.365335</td>\n",
       "      <td>0.336537</td>\n",
       "      <td>0.354732</td>\n",
       "      <td>0.304020</td>\n",
       "      <td>0.310345</td>\n",
       "      <td>0.354269</td>\n",
       "      <td>0.305292</td>\n",
       "      <td>0.324856</td>\n",
       "    </tr>\n",
       "    <tr>\n",
       "      <th>3</th>\n",
       "      <td>0.381395</td>\n",
       "      <td>0.383232</td>\n",
       "      <td>0.367020</td>\n",
       "      <td>0.000000</td>\n",
       "      <td>0.268564</td>\n",
       "      <td>0.312194</td>\n",
       "      <td>0.335122</td>\n",
       "      <td>0.319655</td>\n",
       "      <td>0.335336</td>\n",
       "      <td>0.274602</td>\n",
       "      <td>0.326031</td>\n",
       "      <td>0.323222</td>\n",
       "      <td>0.308979</td>\n",
       "      <td>0.326513</td>\n",
       "      <td>0.272590</td>\n",
       "    </tr>\n",
       "    <tr>\n",
       "      <th>4</th>\n",
       "      <td>0.398181</td>\n",
       "      <td>0.384176</td>\n",
       "      <td>0.372292</td>\n",
       "      <td>0.268564</td>\n",
       "      <td>0.000000</td>\n",
       "      <td>0.319153</td>\n",
       "      <td>0.378101</td>\n",
       "      <td>0.327887</td>\n",
       "      <td>0.277090</td>\n",
       "      <td>0.272493</td>\n",
       "      <td>0.324220</td>\n",
       "      <td>0.235591</td>\n",
       "      <td>0.333014</td>\n",
       "      <td>0.330018</td>\n",
       "      <td>0.305579</td>\n",
       "    </tr>\n",
       "    <tr>\n",
       "      <th>5</th>\n",
       "      <td>0.322749</td>\n",
       "      <td>0.373347</td>\n",
       "      <td>0.336250</td>\n",
       "      <td>0.312194</td>\n",
       "      <td>0.319153</td>\n",
       "      <td>0.000000</td>\n",
       "      <td>0.321707</td>\n",
       "      <td>0.243605</td>\n",
       "      <td>0.361288</td>\n",
       "      <td>0.227048</td>\n",
       "      <td>0.343751</td>\n",
       "      <td>0.274682</td>\n",
       "      <td>0.306637</td>\n",
       "      <td>0.402851</td>\n",
       "      <td>0.312585</td>\n",
       "    </tr>\n",
       "    <tr>\n",
       "      <th>6</th>\n",
       "      <td>0.285117</td>\n",
       "      <td>0.341623</td>\n",
       "      <td>0.357915</td>\n",
       "      <td>0.335122</td>\n",
       "      <td>0.378101</td>\n",
       "      <td>0.321707</td>\n",
       "      <td>0.000000</td>\n",
       "      <td>0.261305</td>\n",
       "      <td>0.338956</td>\n",
       "      <td>0.301184</td>\n",
       "      <td>0.415104</td>\n",
       "      <td>0.348831</td>\n",
       "      <td>0.333967</td>\n",
       "      <td>0.375169</td>\n",
       "      <td>0.361878</td>\n",
       "    </tr>\n",
       "    <tr>\n",
       "      <th>7</th>\n",
       "      <td>0.270057</td>\n",
       "      <td>0.348802</td>\n",
       "      <td>0.365335</td>\n",
       "      <td>0.319655</td>\n",
       "      <td>0.327887</td>\n",
       "      <td>0.243605</td>\n",
       "      <td>0.261305</td>\n",
       "      <td>0.000000</td>\n",
       "      <td>0.271125</td>\n",
       "      <td>0.262503</td>\n",
       "      <td>0.345427</td>\n",
       "      <td>0.252520</td>\n",
       "      <td>0.314418</td>\n",
       "      <td>0.397742</td>\n",
       "      <td>0.361654</td>\n",
       "    </tr>\n",
       "    <tr>\n",
       "      <th>8</th>\n",
       "      <td>0.416655</td>\n",
       "      <td>0.371295</td>\n",
       "      <td>0.336537</td>\n",
       "      <td>0.335336</td>\n",
       "      <td>0.277090</td>\n",
       "      <td>0.361288</td>\n",
       "      <td>0.338956</td>\n",
       "      <td>0.271125</td>\n",
       "      <td>0.000000</td>\n",
       "      <td>0.321534</td>\n",
       "      <td>0.357939</td>\n",
       "      <td>0.296892</td>\n",
       "      <td>0.345910</td>\n",
       "      <td>0.311817</td>\n",
       "      <td>0.340101</td>\n",
       "    </tr>\n",
       "    <tr>\n",
       "      <th>9</th>\n",
       "      <td>0.348542</td>\n",
       "      <td>0.340990</td>\n",
       "      <td>0.354732</td>\n",
       "      <td>0.274602</td>\n",
       "      <td>0.272493</td>\n",
       "      <td>0.227048</td>\n",
       "      <td>0.301184</td>\n",
       "      <td>0.262503</td>\n",
       "      <td>0.321534</td>\n",
       "      <td>0.000000</td>\n",
       "      <td>0.312977</td>\n",
       "      <td>0.259226</td>\n",
       "      <td>0.284089</td>\n",
       "      <td>0.321896</td>\n",
       "      <td>0.263879</td>\n",
       "    </tr>\n",
       "    <tr>\n",
       "      <th>10</th>\n",
       "      <td>0.420656</td>\n",
       "      <td>0.443596</td>\n",
       "      <td>0.304020</td>\n",
       "      <td>0.326031</td>\n",
       "      <td>0.324220</td>\n",
       "      <td>0.343751</td>\n",
       "      <td>0.415104</td>\n",
       "      <td>0.345427</td>\n",
       "      <td>0.357939</td>\n",
       "      <td>0.312977</td>\n",
       "      <td>0.000000</td>\n",
       "      <td>0.282004</td>\n",
       "      <td>0.249073</td>\n",
       "      <td>0.366596</td>\n",
       "      <td>0.345206</td>\n",
       "    </tr>\n",
       "    <tr>\n",
       "      <th>11</th>\n",
       "      <td>0.381633</td>\n",
       "      <td>0.311500</td>\n",
       "      <td>0.310345</td>\n",
       "      <td>0.323222</td>\n",
       "      <td>0.235591</td>\n",
       "      <td>0.274682</td>\n",
       "      <td>0.348831</td>\n",
       "      <td>0.252520</td>\n",
       "      <td>0.296892</td>\n",
       "      <td>0.259226</td>\n",
       "      <td>0.282004</td>\n",
       "      <td>0.000000</td>\n",
       "      <td>0.304611</td>\n",
       "      <td>0.403572</td>\n",
       "      <td>0.315579</td>\n",
       "    </tr>\n",
       "    <tr>\n",
       "      <th>12</th>\n",
       "      <td>0.352954</td>\n",
       "      <td>0.384225</td>\n",
       "      <td>0.354269</td>\n",
       "      <td>0.308979</td>\n",
       "      <td>0.333014</td>\n",
       "      <td>0.306637</td>\n",
       "      <td>0.333967</td>\n",
       "      <td>0.314418</td>\n",
       "      <td>0.345910</td>\n",
       "      <td>0.284089</td>\n",
       "      <td>0.249073</td>\n",
       "      <td>0.304611</td>\n",
       "      <td>0.000000</td>\n",
       "      <td>0.352853</td>\n",
       "      <td>0.292127</td>\n",
       "    </tr>\n",
       "    <tr>\n",
       "      <th>13</th>\n",
       "      <td>0.437819</td>\n",
       "      <td>0.394830</td>\n",
       "      <td>0.305292</td>\n",
       "      <td>0.326513</td>\n",
       "      <td>0.330018</td>\n",
       "      <td>0.402851</td>\n",
       "      <td>0.375169</td>\n",
       "      <td>0.397742</td>\n",
       "      <td>0.311817</td>\n",
       "      <td>0.321896</td>\n",
       "      <td>0.366596</td>\n",
       "      <td>0.403572</td>\n",
       "      <td>0.352853</td>\n",
       "      <td>0.000000</td>\n",
       "      <td>0.357295</td>\n",
       "    </tr>\n",
       "    <tr>\n",
       "      <th>14</th>\n",
       "      <td>0.425223</td>\n",
       "      <td>0.304055</td>\n",
       "      <td>0.324856</td>\n",
       "      <td>0.272590</td>\n",
       "      <td>0.305579</td>\n",
       "      <td>0.312585</td>\n",
       "      <td>0.361878</td>\n",
       "      <td>0.361654</td>\n",
       "      <td>0.340101</td>\n",
       "      <td>0.263879</td>\n",
       "      <td>0.345206</td>\n",
       "      <td>0.315579</td>\n",
       "      <td>0.292127</td>\n",
       "      <td>0.357295</td>\n",
       "      <td>0.000000</td>\n",
       "    </tr>\n",
       "  </tbody>\n",
       "</table>\n",
       "</div>"
      ],
      "text/plain": [
       "          0         1         2         3         4         5         6   \\\n",
       "0   0.000000  0.408603  0.373148  0.381395  0.398181  0.322749  0.285117   \n",
       "1   0.408603  0.000000  0.293055  0.383232  0.384176  0.373347  0.341623   \n",
       "2   0.373148  0.293055  0.000000  0.367020  0.372292  0.336250  0.357915   \n",
       "3   0.381395  0.383232  0.367020  0.000000  0.268564  0.312194  0.335122   \n",
       "4   0.398181  0.384176  0.372292  0.268564  0.000000  0.319153  0.378101   \n",
       "5   0.322749  0.373347  0.336250  0.312194  0.319153  0.000000  0.321707   \n",
       "6   0.285117  0.341623  0.357915  0.335122  0.378101  0.321707  0.000000   \n",
       "7   0.270057  0.348802  0.365335  0.319655  0.327887  0.243605  0.261305   \n",
       "8   0.416655  0.371295  0.336537  0.335336  0.277090  0.361288  0.338956   \n",
       "9   0.348542  0.340990  0.354732  0.274602  0.272493  0.227048  0.301184   \n",
       "10  0.420656  0.443596  0.304020  0.326031  0.324220  0.343751  0.415104   \n",
       "11  0.381633  0.311500  0.310345  0.323222  0.235591  0.274682  0.348831   \n",
       "12  0.352954  0.384225  0.354269  0.308979  0.333014  0.306637  0.333967   \n",
       "13  0.437819  0.394830  0.305292  0.326513  0.330018  0.402851  0.375169   \n",
       "14  0.425223  0.304055  0.324856  0.272590  0.305579  0.312585  0.361878   \n",
       "\n",
       "          7         8         9         10        11        12        13  \\\n",
       "0   0.270057  0.416655  0.348542  0.420656  0.381633  0.352954  0.437819   \n",
       "1   0.348802  0.371295  0.340990  0.443596  0.311500  0.384225  0.394830   \n",
       "2   0.365335  0.336537  0.354732  0.304020  0.310345  0.354269  0.305292   \n",
       "3   0.319655  0.335336  0.274602  0.326031  0.323222  0.308979  0.326513   \n",
       "4   0.327887  0.277090  0.272493  0.324220  0.235591  0.333014  0.330018   \n",
       "5   0.243605  0.361288  0.227048  0.343751  0.274682  0.306637  0.402851   \n",
       "6   0.261305  0.338956  0.301184  0.415104  0.348831  0.333967  0.375169   \n",
       "7   0.000000  0.271125  0.262503  0.345427  0.252520  0.314418  0.397742   \n",
       "8   0.271125  0.000000  0.321534  0.357939  0.296892  0.345910  0.311817   \n",
       "9   0.262503  0.321534  0.000000  0.312977  0.259226  0.284089  0.321896   \n",
       "10  0.345427  0.357939  0.312977  0.000000  0.282004  0.249073  0.366596   \n",
       "11  0.252520  0.296892  0.259226  0.282004  0.000000  0.304611  0.403572   \n",
       "12  0.314418  0.345910  0.284089  0.249073  0.304611  0.000000  0.352853   \n",
       "13  0.397742  0.311817  0.321896  0.366596  0.403572  0.352853  0.000000   \n",
       "14  0.361654  0.340101  0.263879  0.345206  0.315579  0.292127  0.357295   \n",
       "\n",
       "          14  \n",
       "0   0.425223  \n",
       "1   0.304055  \n",
       "2   0.324856  \n",
       "3   0.272590  \n",
       "4   0.305579  \n",
       "5   0.312585  \n",
       "6   0.361878  \n",
       "7   0.361654  \n",
       "8   0.340101  \n",
       "9   0.263879  \n",
       "10  0.345206  \n",
       "11  0.315579  \n",
       "12  0.292127  \n",
       "13  0.357295  \n",
       "14  0.000000  "
      ]
     },
     "execution_count": 110,
     "metadata": {},
     "output_type": "execute_result"
    }
   ],
   "source": [
    "bray_curtis = calc_braycurtis(random_data.values.T)\n",
    "pd.DataFrame(bray_curtis)"
   ]
  },
  {
   "cell_type": "code",
   "execution_count": 111,
   "metadata": {},
   "outputs": [],
   "source": [
    "mds = manifold.MDS(n_components=2, \n",
    "                   dissimilarity = \"precomputed\",\n",
    "                   metric = False,\n",
    "                   random_state = 6)"
   ]
  },
  {
   "cell_type": "code",
   "execution_count": 112,
   "metadata": {},
   "outputs": [],
   "source": [
    "pos = mds.fit_transform(bray_curtis)"
   ]
  },
  {
   "cell_type": "code",
   "execution_count": 115,
   "metadata": {},
   "outputs": [
    {
     "data": {
      "image/png": "[encoded data removed]",
      "text/plain": [
       "<Figure size 432x288 with 1 Axes>"
      ]
     },
     "metadata": {
      "needs_background": "light"
     },
     "output_type": "display_data"
    }
   ],
   "source": [
    "plt.scatter(pos[:, 0], -pos[:, 1], marker = 'o')\n",
    "\n",
    "for label, x, y in zip(labels, pos[:, 0], -pos[:, 1]):\n",
    "    plt.annotate(\n",
    "        label,\n",
    "        xy = (x, y), xytext = (18, 10),\n",
    "        textcoords = 'offset points', ha = 'right', va = 'bottom',\n",
    "        bbox = dict(boxstyle = 'round,pad=0.5', fc = 'yellow', alpha = 0.5),\n",
    "        arrowprops = dict(arrowstyle = '->', connectionstyle = 'arc3,rad=0')\n",
    "    )\n",
    "\n",
    "plt.show()"
   ]
  },
  {
   "cell_type": "code",
   "execution_count": null,
   "metadata": {},
   "outputs": [],
   "source": []
  }
 ],
 "metadata": {
  "kernelspec": {
   "display_name": "Python 3",
   "language": "python",
   "name": "python3"
  },
  "language_info": {
   "codemirror_mode": {
    "name": "ipython",
    "version": 3
   },
   "file_extension": ".py",
   "mimetype": "text/x-python",
   "name": "python",
   "nbconvert_exporter": "python",
   "pygments_lexer": "ipython3",
   "version": "3.8.6"
  }
 },
 "nbformat": 4,
 "nbformat_minor": 4
}
